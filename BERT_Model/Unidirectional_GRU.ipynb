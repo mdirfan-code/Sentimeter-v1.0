{
 "cells": [
  {
   "cell_type": "code",
   "execution_count": 1,
   "metadata": {},
   "outputs": [
    {
     "name": "stderr",
     "output_type": "stream",
     "text": [
      "2022-09-17 12:41:30.132075: W tensorflow/stream_executor/platform/default/dso_loader.cc:64] Could not load dynamic library 'libcudart.so.11.0'; dlerror: libcudart.so.11.0: cannot open shared object file: No such file or directory\n",
      "2022-09-17 12:41:30.132122: I tensorflow/stream_executor/cuda/cudart_stub.cc:29] Ignore above cudart dlerror if you do not have a GPU set up on your machine.\n"
     ]
    }
   ],
   "source": [
    "import numpy as np\n",
    "import pandas as pd\n",
    "import tensorflow_datasets as tfds\n",
    "import tensorflow_hub as hub\n",
    "import tensorflow as tf"
   ]
  },
  {
   "cell_type": "code",
   "execution_count": 2,
   "metadata": {},
   "outputs": [
    {
     "data": {
      "text/html": [
       "<div>\n",
       "<style scoped>\n",
       "    .dataframe tbody tr th:only-of-type {\n",
       "        vertical-align: middle;\n",
       "    }\n",
       "\n",
       "    .dataframe tbody tr th {\n",
       "        vertical-align: top;\n",
       "    }\n",
       "\n",
       "    .dataframe thead th {\n",
       "        text-align: right;\n",
       "    }\n",
       "</style>\n",
       "<table border=\"1\" class=\"dataframe\">\n",
       "  <thead>\n",
       "    <tr style=\"text-align: right;\">\n",
       "      <th></th>\n",
       "      <th>Unnamed: 0</th>\n",
       "      <th>sentiment</th>\n",
       "      <th>tweet_text</th>\n",
       "    </tr>\n",
       "  </thead>\n",
       "  <tbody>\n",
       "    <tr>\n",
       "      <th>0</th>\n",
       "      <td>49647</td>\n",
       "      <td>Irrelevant</td>\n",
       "      <td>Last Weekend league for Fifa 20 Glad I could f...</td>\n",
       "    </tr>\n",
       "    <tr>\n",
       "      <th>1</th>\n",
       "      <td>43676</td>\n",
       "      <td>Positive</td>\n",
       "      <td>omg i'm so excited to watch dk play pubg</td>\n",
       "    </tr>\n",
       "    <tr>\n",
       "      <th>2</th>\n",
       "      <td>55915</td>\n",
       "      <td>Negative</td>\n",
       "      <td>all others who have problems with</td>\n",
       "    </tr>\n",
       "    <tr>\n",
       "      <th>3</th>\n",
       "      <td>14927</td>\n",
       "      <td>Positive</td>\n",
       "      <td>in</td>\n",
       "    </tr>\n",
       "    <tr>\n",
       "      <th>4</th>\n",
       "      <td>44039</td>\n",
       "      <td>Irrelevant</td>\n",
       "      <td>minho felix de jeongin sucked at pubg pretty h...</td>\n",
       "    </tr>\n",
       "    <tr>\n",
       "      <th>...</th>\n",
       "      <td>...</td>\n",
       "      <td>...</td>\n",
       "      <td>...</td>\n",
       "    </tr>\n",
       "    <tr>\n",
       "      <th>59191</th>\n",
       "      <td>37541</td>\n",
       "      <td>Negative</td>\n",
       "      <td>you</td>\n",
       "    </tr>\n",
       "    <tr>\n",
       "      <th>59192</th>\n",
       "      <td>6332</td>\n",
       "      <td>Neutral</td>\n",
       "      <td>I'm not even going to show a 7 2 loss.</td>\n",
       "    </tr>\n",
       "    <tr>\n",
       "      <th>59193</th>\n",
       "      <td>55392</td>\n",
       "      <td>Negative</td>\n",
       "      <td>Fuck this call of duty update..</td>\n",
       "    </tr>\n",
       "    <tr>\n",
       "      <th>59194</th>\n",
       "      <td>864</td>\n",
       "      <td>Positive</td>\n",
       "      <td>I should get up feed my dogs such that way whe...</td>\n",
       "    </tr>\n",
       "    <tr>\n",
       "      <th>59195</th>\n",
       "      <td>15956</td>\n",
       "      <td>Irrelevant</td>\n",
       "      <td>Welcome to The International!</td>\n",
       "    </tr>\n",
       "  </tbody>\n",
       "</table>\n",
       "<p>59196 rows × 3 columns</p>\n",
       "</div>"
      ],
      "text/plain": [
       "       Unnamed: 0   sentiment  \\\n",
       "0           49647  Irrelevant   \n",
       "1           43676    Positive   \n",
       "2           55915    Negative   \n",
       "3           14927    Positive   \n",
       "4           44039  Irrelevant   \n",
       "...           ...         ...   \n",
       "59191       37541    Negative   \n",
       "59192        6332     Neutral   \n",
       "59193       55392    Negative   \n",
       "59194         864    Positive   \n",
       "59195       15956  Irrelevant   \n",
       "\n",
       "                                              tweet_text  \n",
       "0      Last Weekend league for Fifa 20 Glad I could f...  \n",
       "1               omg i'm so excited to watch dk play pubg  \n",
       "2                      all others who have problems with  \n",
       "3                                                     in  \n",
       "4      minho felix de jeongin sucked at pubg pretty h...  \n",
       "...                                                  ...  \n",
       "59191                                                you  \n",
       "59192             I'm not even going to show a 7 2 loss.  \n",
       "59193                    Fuck this call of duty update..  \n",
       "59194  I should get up feed my dogs such that way whe...  \n",
       "59195                      Welcome to The International!  \n",
       "\n",
       "[59196 rows x 3 columns]"
      ]
     },
     "execution_count": 2,
     "metadata": {},
     "output_type": "execute_result"
    }
   ],
   "source": [
    "train_data_set = pd.read_csv(\"/home/mdirfan-code/projects/Sentimeter-v1.0/BERT_Model/Datasets/Training_dataset.csv\")\n",
    "train_data_set"
   ]
  },
  {
   "cell_type": "code",
   "execution_count": 3,
   "metadata": {},
   "outputs": [
    {
     "data": {
      "text/html": [
       "<div>\n",
       "<style scoped>\n",
       "    .dataframe tbody tr th:only-of-type {\n",
       "        vertical-align: middle;\n",
       "    }\n",
       "\n",
       "    .dataframe tbody tr th {\n",
       "        vertical-align: top;\n",
       "    }\n",
       "\n",
       "    .dataframe thead th {\n",
       "        text-align: right;\n",
       "    }\n",
       "</style>\n",
       "<table border=\"1\" class=\"dataframe\">\n",
       "  <thead>\n",
       "    <tr style=\"text-align: right;\">\n",
       "      <th></th>\n",
       "      <th>Unnamed: 0</th>\n",
       "      <th>sentiment</th>\n",
       "      <th>tweet_text</th>\n",
       "    </tr>\n",
       "  </thead>\n",
       "  <tbody>\n",
       "    <tr>\n",
       "      <th>0</th>\n",
       "      <td>61413</td>\n",
       "      <td>Irrelevant</td>\n",
       "      <td>Looks to me like he failed to check out the wa...</td>\n",
       "    </tr>\n",
       "    <tr>\n",
       "      <th>1</th>\n",
       "      <td>44887</td>\n",
       "      <td>Irrelevant</td>\n",
       "      <td>Wow it takes all sorts of crazy people out the...</td>\n",
       "    </tr>\n",
       "    <tr>\n",
       "      <th>2</th>\n",
       "      <td>73662</td>\n",
       "      <td>Neutral</td>\n",
       "      <td>Nvidia Unveils The World s Fastest Gaming Moni...</td>\n",
       "    </tr>\n",
       "    <tr>\n",
       "      <th>3</th>\n",
       "      <td>36694</td>\n",
       "      <td>Neutral</td>\n",
       "      <td>Huge radio play here. Reinvention Corporate Ev...</td>\n",
       "    </tr>\n",
       "    <tr>\n",
       "      <th>4</th>\n",
       "      <td>2308</td>\n",
       "      <td>Negative</td>\n",
       "      <td>SO I HAPPY WHO ABOUT THIS.</td>\n",
       "    </tr>\n",
       "    <tr>\n",
       "      <th>...</th>\n",
       "      <td>...</td>\n",
       "      <td>...</td>\n",
       "      <td>...</td>\n",
       "    </tr>\n",
       "    <tr>\n",
       "      <th>14795</th>\n",
       "      <td>12630</td>\n",
       "      <td>Negative</td>\n",
       "      <td>where is all my Mamba Edition extras? I m bee...</td>\n",
       "    </tr>\n",
       "    <tr>\n",
       "      <th>14796</th>\n",
       "      <td>49615</td>\n",
       "      <td>Negative</td>\n",
       "      <td>Sell 700k fifa coins fucking this game</td>\n",
       "    </tr>\n",
       "    <tr>\n",
       "      <th>14797</th>\n",
       "      <td>12322</td>\n",
       "      <td>Negative</td>\n",
       "      <td>107 for a four game break and I can't even ev...</td>\n",
       "    </tr>\n",
       "    <tr>\n",
       "      <th>14798</th>\n",
       "      <td>4355</td>\n",
       "      <td>Irrelevant</td>\n",
       "      <td>has called me a madman.. I understood right fr...</td>\n",
       "    </tr>\n",
       "    <tr>\n",
       "      <th>14799</th>\n",
       "      <td>52612</td>\n",
       "      <td>Positive</td>\n",
       "      <td>RDR2 at 31m makes really this boy super happy.</td>\n",
       "    </tr>\n",
       "  </tbody>\n",
       "</table>\n",
       "<p>14800 rows × 3 columns</p>\n",
       "</div>"
      ],
      "text/plain": [
       "       Unnamed: 0   sentiment  \\\n",
       "0           61413  Irrelevant   \n",
       "1           44887  Irrelevant   \n",
       "2           73662     Neutral   \n",
       "3           36694     Neutral   \n",
       "4            2308    Negative   \n",
       "...           ...         ...   \n",
       "14795       12630    Negative   \n",
       "14796       49615    Negative   \n",
       "14797       12322    Negative   \n",
       "14798        4355  Irrelevant   \n",
       "14799       52612    Positive   \n",
       "\n",
       "                                              tweet_text  \n",
       "0      Looks to me like he failed to check out the wa...  \n",
       "1      Wow it takes all sorts of crazy people out the...  \n",
       "2      Nvidia Unveils The World s Fastest Gaming Moni...  \n",
       "3      Huge radio play here. Reinvention Corporate Ev...  \n",
       "4                             SO I HAPPY WHO ABOUT THIS.  \n",
       "...                                                  ...  \n",
       "14795   where is all my Mamba Edition extras? I m bee...  \n",
       "14796             Sell 700k fifa coins fucking this game  \n",
       "14797   107 for a four game break and I can't even ev...  \n",
       "14798  has called me a madman.. I understood right fr...  \n",
       "14799     RDR2 at 31m makes really this boy super happy.  \n",
       "\n",
       "[14800 rows x 3 columns]"
      ]
     },
     "execution_count": 3,
     "metadata": {},
     "output_type": "execute_result"
    }
   ],
   "source": [
    "test_data_set = pd.read_csv(\"/home/mdirfan-code/projects/Sentimeter-v1.0/BERT_Model/Datasets/Testing_dataset.csv\")\n",
    "test_data_set"
   ]
  },
  {
   "cell_type": "code",
   "execution_count": 4,
   "metadata": {},
   "outputs": [
    {
     "data": {
      "text/html": [
       "<div>\n",
       "<style scoped>\n",
       "    .dataframe tbody tr th:only-of-type {\n",
       "        vertical-align: middle;\n",
       "    }\n",
       "\n",
       "    .dataframe tbody tr th {\n",
       "        vertical-align: top;\n",
       "    }\n",
       "\n",
       "    .dataframe thead th {\n",
       "        text-align: right;\n",
       "    }\n",
       "</style>\n",
       "<table border=\"1\" class=\"dataframe\">\n",
       "  <thead>\n",
       "    <tr style=\"text-align: right;\">\n",
       "      <th></th>\n",
       "      <th>sentiment</th>\n",
       "      <th>tweet_text</th>\n",
       "    </tr>\n",
       "  </thead>\n",
       "  <tbody>\n",
       "    <tr>\n",
       "      <th>0</th>\n",
       "      <td>Irrelevant</td>\n",
       "      <td>Looks to me like he failed to check out the wa...</td>\n",
       "    </tr>\n",
       "    <tr>\n",
       "      <th>1</th>\n",
       "      <td>Irrelevant</td>\n",
       "      <td>Wow it takes all sorts of crazy people out the...</td>\n",
       "    </tr>\n",
       "    <tr>\n",
       "      <th>2</th>\n",
       "      <td>Neutral</td>\n",
       "      <td>Nvidia Unveils The World s Fastest Gaming Moni...</td>\n",
       "    </tr>\n",
       "    <tr>\n",
       "      <th>3</th>\n",
       "      <td>Neutral</td>\n",
       "      <td>Huge radio play here. Reinvention Corporate Ev...</td>\n",
       "    </tr>\n",
       "    <tr>\n",
       "      <th>4</th>\n",
       "      <td>Negative</td>\n",
       "      <td>SO I HAPPY WHO ABOUT THIS.</td>\n",
       "    </tr>\n",
       "    <tr>\n",
       "      <th>...</th>\n",
       "      <td>...</td>\n",
       "      <td>...</td>\n",
       "    </tr>\n",
       "    <tr>\n",
       "      <th>14795</th>\n",
       "      <td>Negative</td>\n",
       "      <td>where is all my Mamba Edition extras? I m bee...</td>\n",
       "    </tr>\n",
       "    <tr>\n",
       "      <th>14796</th>\n",
       "      <td>Negative</td>\n",
       "      <td>Sell 700k fifa coins fucking this game</td>\n",
       "    </tr>\n",
       "    <tr>\n",
       "      <th>14797</th>\n",
       "      <td>Negative</td>\n",
       "      <td>107 for a four game break and I can't even ev...</td>\n",
       "    </tr>\n",
       "    <tr>\n",
       "      <th>14798</th>\n",
       "      <td>Irrelevant</td>\n",
       "      <td>has called me a madman.. I understood right fr...</td>\n",
       "    </tr>\n",
       "    <tr>\n",
       "      <th>14799</th>\n",
       "      <td>Positive</td>\n",
       "      <td>RDR2 at 31m makes really this boy super happy.</td>\n",
       "    </tr>\n",
       "  </tbody>\n",
       "</table>\n",
       "<p>14800 rows × 2 columns</p>\n",
       "</div>"
      ],
      "text/plain": [
       "        sentiment                                         tweet_text\n",
       "0      Irrelevant  Looks to me like he failed to check out the wa...\n",
       "1      Irrelevant  Wow it takes all sorts of crazy people out the...\n",
       "2         Neutral  Nvidia Unveils The World s Fastest Gaming Moni...\n",
       "3         Neutral  Huge radio play here. Reinvention Corporate Ev...\n",
       "4        Negative                         SO I HAPPY WHO ABOUT THIS.\n",
       "...           ...                                                ...\n",
       "14795    Negative   where is all my Mamba Edition extras? I m bee...\n",
       "14796    Negative             Sell 700k fifa coins fucking this game\n",
       "14797    Negative   107 for a four game break and I can't even ev...\n",
       "14798  Irrelevant  has called me a madman.. I understood right fr...\n",
       "14799    Positive     RDR2 at 31m makes really this boy super happy.\n",
       "\n",
       "[14800 rows x 2 columns]"
      ]
     },
     "execution_count": 4,
     "metadata": {},
     "output_type": "execute_result"
    }
   ],
   "source": [
    "test_data_set.drop('Unnamed: 0',axis=1,inplace=True)\n",
    "test_data_set"
   ]
  },
  {
   "cell_type": "code",
   "execution_count": 5,
   "metadata": {},
   "outputs": [
    {
     "data": {
      "text/html": [
       "<div>\n",
       "<style scoped>\n",
       "    .dataframe tbody tr th:only-of-type {\n",
       "        vertical-align: middle;\n",
       "    }\n",
       "\n",
       "    .dataframe tbody tr th {\n",
       "        vertical-align: top;\n",
       "    }\n",
       "\n",
       "    .dataframe thead th {\n",
       "        text-align: right;\n",
       "    }\n",
       "</style>\n",
       "<table border=\"1\" class=\"dataframe\">\n",
       "  <thead>\n",
       "    <tr style=\"text-align: right;\">\n",
       "      <th></th>\n",
       "      <th>sentiment</th>\n",
       "      <th>tweet_text</th>\n",
       "    </tr>\n",
       "  </thead>\n",
       "  <tbody>\n",
       "    <tr>\n",
       "      <th>0</th>\n",
       "      <td>Irrelevant</td>\n",
       "      <td>Last Weekend league for Fifa 20 Glad I could f...</td>\n",
       "    </tr>\n",
       "    <tr>\n",
       "      <th>1</th>\n",
       "      <td>Positive</td>\n",
       "      <td>omg i'm so excited to watch dk play pubg</td>\n",
       "    </tr>\n",
       "    <tr>\n",
       "      <th>2</th>\n",
       "      <td>Negative</td>\n",
       "      <td>all others who have problems with</td>\n",
       "    </tr>\n",
       "    <tr>\n",
       "      <th>3</th>\n",
       "      <td>Positive</td>\n",
       "      <td>in</td>\n",
       "    </tr>\n",
       "    <tr>\n",
       "      <th>4</th>\n",
       "      <td>Irrelevant</td>\n",
       "      <td>minho felix de jeongin sucked at pubg pretty h...</td>\n",
       "    </tr>\n",
       "    <tr>\n",
       "      <th>...</th>\n",
       "      <td>...</td>\n",
       "      <td>...</td>\n",
       "    </tr>\n",
       "    <tr>\n",
       "      <th>59191</th>\n",
       "      <td>Negative</td>\n",
       "      <td>you</td>\n",
       "    </tr>\n",
       "    <tr>\n",
       "      <th>59192</th>\n",
       "      <td>Neutral</td>\n",
       "      <td>I'm not even going to show a 7 2 loss.</td>\n",
       "    </tr>\n",
       "    <tr>\n",
       "      <th>59193</th>\n",
       "      <td>Negative</td>\n",
       "      <td>Fuck this call of duty update..</td>\n",
       "    </tr>\n",
       "    <tr>\n",
       "      <th>59194</th>\n",
       "      <td>Positive</td>\n",
       "      <td>I should get up feed my dogs such that way whe...</td>\n",
       "    </tr>\n",
       "    <tr>\n",
       "      <th>59195</th>\n",
       "      <td>Irrelevant</td>\n",
       "      <td>Welcome to The International!</td>\n",
       "    </tr>\n",
       "  </tbody>\n",
       "</table>\n",
       "<p>59196 rows × 2 columns</p>\n",
       "</div>"
      ],
      "text/plain": [
       "        sentiment                                         tweet_text\n",
       "0      Irrelevant  Last Weekend league for Fifa 20 Glad I could f...\n",
       "1        Positive           omg i'm so excited to watch dk play pubg\n",
       "2        Negative                  all others who have problems with\n",
       "3        Positive                                                 in\n",
       "4      Irrelevant  minho felix de jeongin sucked at pubg pretty h...\n",
       "...           ...                                                ...\n",
       "59191    Negative                                                you\n",
       "59192     Neutral             I'm not even going to show a 7 2 loss.\n",
       "59193    Negative                    Fuck this call of duty update..\n",
       "59194    Positive  I should get up feed my dogs such that way whe...\n",
       "59195  Irrelevant                      Welcome to The International!\n",
       "\n",
       "[59196 rows x 2 columns]"
      ]
     },
     "execution_count": 5,
     "metadata": {},
     "output_type": "execute_result"
    }
   ],
   "source": [
    "train_data_set.drop(['Unnamed: 0'],axis=1,inplace=True)\n",
    "train_data_set\n"
   ]
  },
  {
   "cell_type": "code",
   "execution_count": 6,
   "metadata": {},
   "outputs": [],
   "source": [
    "from sklearn.utils import class_weight\n",
    "\n",
    "class_weights = list(class_weight.compute_class_weight('balanced', classes = np.unique(train_data_set['sentiment']) ,y=train_data_set['sentiment']))"
   ]
  },
  {
   "cell_type": "code",
   "execution_count": 7,
   "metadata": {},
   "outputs": [
    {
     "data": {
      "text/plain": [
       "[1.4538756262894195,\n",
       " 0.8231727667148737,\n",
       " 1.0204095704337033,\n",
       " 0.8949564586357039]"
      ]
     },
     "execution_count": 7,
     "metadata": {},
     "output_type": "execute_result"
    }
   ],
   "source": [
    "class_weights"
   ]
  },
  {
   "cell_type": "code",
   "execution_count": 8,
   "metadata": {},
   "outputs": [
    {
     "data": {
      "text/plain": [
       "array(['Irrelevant', 'Negative', 'Neutral', 'Positive'], dtype=object)"
      ]
     },
     "execution_count": 8,
     "metadata": {},
     "output_type": "execute_result"
    }
   ],
   "source": [
    "class_weights.sort()\n",
    "np.unique(train_data_set['sentiment'])"
   ]
  },
  {
   "cell_type": "code",
   "execution_count": 9,
   "metadata": {},
   "outputs": [
    {
     "data": {
      "text/plain": [
       "{0: 0.8231727667148737,\n",
       " 1: 0.8949564586357039,\n",
       " 2: 1.0204095704337033,\n",
       " 3: 1.4538756262894195}"
      ]
     },
     "execution_count": 9,
     "metadata": {},
     "output_type": "execute_result"
    }
   ],
   "source": [
    "weights = {}\n",
    "for index, weight in enumerate(class_weights):\n",
    "    weights[index] = weight\n",
    "weights\n"
   ]
  },
  {
   "cell_type": "code",
   "execution_count": 10,
   "metadata": {},
   "outputs": [
    {
     "name": "stderr",
     "output_type": "stream",
     "text": [
      "2022-09-17 12:41:33.628777: W tensorflow/stream_executor/platform/default/dso_loader.cc:64] Could not load dynamic library 'libcuda.so.1'; dlerror: libcuda.so.1: cannot open shared object file: No such file or directory\n",
      "2022-09-17 12:41:33.628843: W tensorflow/stream_executor/cuda/cuda_driver.cc:269] failed call to cuInit: UNKNOWN ERROR (303)\n",
      "2022-09-17 12:41:33.628857: I tensorflow/stream_executor/cuda/cuda_diagnostics.cc:156] kernel driver does not appear to be running on this host (Mi-Notebook-Ultra): /proc/driver/nvidia/version does not exist\n",
      "2022-09-17 12:41:33.629153: I tensorflow/core/platform/cpu_feature_guard.cc:151] This TensorFlow binary is optimized with oneAPI Deep Neural Network Library (oneDNN) to use the following CPU instructions in performance-critical operations:  AVX2 AVX512F FMA\n",
      "To enable them in other operations, rebuild TensorFlow with the appropriate compiler flags.\n"
     ]
    }
   ],
   "source": [
    "train_dataset = tf.data.Dataset.from_tensor_slices((train_data_set['tweet_text'].values,train_data_set['sentiment'].values))\n",
    "test_dataset = tf.data.Dataset.from_tensor_slices((test_data_set['tweet_text'].values,test_data_set['sentiment'].values))"
   ]
  },
  {
   "cell_type": "code",
   "execution_count": 11,
   "metadata": {},
   "outputs": [
    {
     "data": {
      "text/plain": [
       "Negative      17978\n",
       "Positive      16536\n",
       "Neutral       14503\n",
       "Irrelevant    10179\n",
       "Name: sentiment, dtype: int64"
      ]
     },
     "execution_count": 11,
     "metadata": {},
     "output_type": "execute_result"
    }
   ],
   "source": [
    "train_data_set['sentiment'].value_counts()"
   ]
  },
  {
   "cell_type": "code",
   "execution_count": 12,
   "metadata": {},
   "outputs": [],
   "source": [
    "table = tf.lookup.StaticHashTable(\n",
    "    initializer = tf.lookup.KeyValueTensorInitializer(\n",
    "        keys = tf.constant([ 'Negative','Positive', 'Neutral', 'Irrelevant']),\n",
    "        values=tf.constant([0,1,2,3])\n",
    "    ),\n",
    "    default_value=tf.constant(-1),\n",
    "    name = \"target_encoding\"\n",
    ")\n",
    "\n",
    "@tf.function\n",
    "def target(x):\n",
    "    return table.lookup(x)\n",
    "    "
   ]
  },
  {
   "cell_type": "code",
   "execution_count": 13,
   "metadata": {},
   "outputs": [],
   "source": [
    "def show_batch(dataset, size=5):\n",
    "    for batch, label in dataset.take(size):\n",
    "        print(batch.numpy())\n",
    "        print(target(label).numpy())"
   ]
  },
  {
   "cell_type": "code",
   "execution_count": 14,
   "metadata": {},
   "outputs": [
    {
     "name": "stdout",
     "output_type": "stream",
     "text": [
      "b'Last Weekend league for Fifa 20 Glad I could finish strong . . Birthday Mbappe and TOTS de Bruyne were absolutely clutch . pic.twitter.com n1766sVgP9'\n",
      "3\n",
      "b\"omg i'm so excited to watch dk play pubg\"\n",
      "1\n",
      "b'all others who have problems with'\n",
      "0\n",
      "b'in'\n",
      "1\n",
      "b\"minho felix de jeongin sucked at pubg pretty hard today I'm just.. I'm less different than them at 1 thing\"\n",
      "3\n",
      "b\"I appreciate any advice suggestions on this pleeeeease if it's doing hot noodle canister in! All game action was smooth before. This choppy capture is not good. It was fine capturing in OBS before the Nvidia driver update for my RTX GPUs already NERDIOD help NEEDED! \"\n",
      "0\n"
     ]
    }
   ],
   "source": [
    "show_batch(train_dataset,6)"
   ]
  },
  {
   "cell_type": "code",
   "execution_count": 15,
   "metadata": {},
   "outputs": [],
   "source": [
    "def fetch(text, labels):\n",
    "    return text, tf.one_hot(target(labels),4)"
   ]
  },
  {
   "cell_type": "code",
   "execution_count": 16,
   "metadata": {},
   "outputs": [
    {
     "data": {
      "text/plain": [
       "(<tf.Tensor: shape=(), dtype=string, numpy=b'Last Weekend league for Fifa 20 Glad I could finish strong . . Birthday Mbappe and TOTS de Bruyne were absolutely clutch . pic.twitter.com n1766sVgP9'>,\n",
       " <tf.Tensor: shape=(4,), dtype=float32, numpy=array([0., 0., 0., 1.], dtype=float32)>)"
      ]
     },
     "execution_count": 16,
     "metadata": {},
     "output_type": "execute_result"
    }
   ],
   "source": [
    "train_data_f = train_dataset.map(fetch)\n",
    "test_data_f = test_dataset.map(fetch)\n",
    "next(iter(train_data_f))"
   ]
  },
  {
   "cell_type": "code",
   "execution_count": 17,
   "metadata": {},
   "outputs": [
    {
     "data": {
      "text/plain": [
       "(<tf.Tensor: shape=(5,), dtype=string, numpy=\n",
       " array([b'Last Weekend league for Fifa 20 Glad I could finish strong . . Birthday Mbappe and TOTS de Bruyne were absolutely clutch . pic.twitter.com n1766sVgP9',\n",
       "        b\"omg i'm so excited to watch dk play pubg\",\n",
       "        b'all others who have problems with', b'in',\n",
       "        b\"minho felix de jeongin sucked at pubg pretty hard today I'm just.. I'm less different than them at 1 thing\"],\n",
       "       dtype=object)>,\n",
       " <tf.Tensor: shape=(5, 4), dtype=float32, numpy=\n",
       " array([[0., 0., 0., 1.],\n",
       "        [0., 1., 0., 0.],\n",
       "        [1., 0., 0., 0.],\n",
       "        [0., 1., 0., 0.],\n",
       "        [0., 0., 0., 1.]], dtype=float32)>)"
      ]
     },
     "execution_count": 17,
     "metadata": {},
     "output_type": "execute_result"
    }
   ],
   "source": [
    "train_data, train_labels = next(iter(train_data_f.batch(5)))\n",
    "train_data, train_labels"
   ]
  },
  {
   "cell_type": "code",
   "execution_count": 18,
   "metadata": {},
   "outputs": [],
   "source": [
    "BUFFER_SIZE = 10000\n",
    "BATCH_SIZE = 64\n",
    "train_data_f = train_data_f.shuffle(BUFFER_SIZE).batch(BATCH_SIZE).prefetch(tf.data.AUTOTUNE)\n",
    "test_data_f = test_data_f.batch(BATCH_SIZE).prefetch(tf.data.AUTOTUNE)"
   ]
  },
  {
   "cell_type": "code",
   "execution_count": 19,
   "metadata": {},
   "outputs": [
    {
     "name": "stdout",
     "output_type": "stream",
     "text": [
      "texts:  [b' not only has the worst game in they also have the worst servers.'\n",
      " b'I just earned the Quintessential Quintet Achievement! '\n",
      " b'HEART STONE DUAL my internet creeps twitch.tv jackmeshell']\n",
      "\n",
      "labels:  [[1. 0. 0. 0.]\n",
      " [0. 0. 1. 0.]\n",
      " [0. 0. 1. 0.]]\n"
     ]
    }
   ],
   "source": [
    "for example, label in train_data_f.take(1):\n",
    "    print('texts: ', example.numpy()[:3])\n",
    "    print()\n",
    "    print('labels: ', label.numpy()[:3])"
   ]
  },
  {
   "cell_type": "code",
   "execution_count": 20,
   "metadata": {},
   "outputs": [],
   "source": [
    "VOCAB_SIZE = 1000\n",
    "encoder = tf.keras.layers.TextVectorization(max_tokens = VOCAB_SIZE)\n",
    "encoder.adapt(train_data_f.map(lambda text, label:text))"
   ]
  },
  {
   "cell_type": "code",
   "execution_count": 21,
   "metadata": {},
   "outputs": [
    {
     "data": {
      "text/plain": [
       "array(['', '[UNK]', 'the', 'i', 'to', 'and', 'a', 'of', 'is', 'for', 'in',\n",
       "       'this'], dtype='<U19')"
      ]
     },
     "execution_count": 21,
     "metadata": {},
     "output_type": "execute_result"
    }
   ],
   "source": [
    "vocab = np.array(encoder.get_vocabulary())\n",
    "vocab[:12]"
   ]
  },
  {
   "cell_type": "code",
   "execution_count": 22,
   "metadata": {},
   "outputs": [
    {
     "data": {
      "text/plain": [
       "array([[ 11,   8,  15,  18,   0,   0],\n",
       "       [  3,  58, 491,  63, 132, 370],\n",
       "       [ 71,  20,   1,   0,   0,   0]])"
      ]
     },
     "execution_count": 22,
     "metadata": {},
     "output_type": "execute_result"
    }
   ],
   "source": [
    "example = [\"this is my game\", \"I love Myself more than anything\",\"why me nivea\"]\n",
    "encoded_example = encoder(example)[:3].numpy()\n",
    "encoded_example"
   ]
  },
  {
   "cell_type": "code",
   "execution_count": 23,
   "metadata": {},
   "outputs": [],
   "source": [
    "model = tf.keras.Sequential([\n",
    "    encoder,\n",
    "    tf.keras.layers.Embedding(\n",
    "        input_dim=1000,\n",
    "        output_dim=64,\n",
    "        # Use masking to handle the variable sequence lengths\n",
    "        mask_zero=True),\n",
    "    tf.keras.layers.GRU(64),\n",
    "    tf.keras.layers.Dense(64, activation='relu'),\n",
    "    tf.keras.layers.Dense(4,activation='softmax')\n",
    "])\n"
   ]
  },
  {
   "cell_type": "code",
   "execution_count": 24,
   "metadata": {},
   "outputs": [
    {
     "name": "stdout",
     "output_type": "stream",
     "text": [
      "[False, True, True, True, True]\n"
     ]
    }
   ],
   "source": [
    "print([layer.supports_masking for layer in model.layers])"
   ]
  },
  {
   "cell_type": "code",
   "execution_count": 25,
   "metadata": {},
   "outputs": [
    {
     "name": "stdout",
     "output_type": "stream",
     "text": [
      "[0.24914025 0.25244975 0.24685955 0.25155056]\n"
     ]
    }
   ],
   "source": [
    "sample_text = ('The movie was cool. The animation and the graphics '\n",
    "               'were out of this world. I would recommend this movie.')\n",
    "predictions = model.predict(train_data_f.take(1))\n",
    "print(predictions[0])"
   ]
  },
  {
   "cell_type": "code",
   "execution_count": 26,
   "metadata": {},
   "outputs": [],
   "source": [
    "model.compile(loss=tf.keras.losses.CategoricalCrossentropy(from_logits=True),\n",
    "              optimizer=tf.keras.optimizers.Adam(1e-4),\n",
    "              metrics=['accuracy'])"
   ]
  },
  {
   "cell_type": "code",
   "execution_count": 27,
   "metadata": {},
   "outputs": [
    {
     "name": "stdout",
     "output_type": "stream",
     "text": [
      "Model: \"sequential\"\n",
      "_________________________________________________________________\n",
      " Layer (type)                Output Shape              Param #   \n",
      "=================================================================\n",
      " text_vectorization (TextVec  (None, None)             0         \n",
      " torization)                                                     \n",
      "                                                                 \n",
      " embedding (Embedding)       (None, None, 64)          64000     \n",
      "                                                                 \n",
      " gru (GRU)                   (None, 64)                24960     \n",
      "                                                                 \n",
      " dense (Dense)               (None, 64)                4160      \n",
      "                                                                 \n",
      " dense_1 (Dense)             (None, 4)                 260       \n",
      "                                                                 \n",
      "=================================================================\n",
      "Total params: 93,380\n",
      "Trainable params: 93,380\n",
      "Non-trainable params: 0\n",
      "_________________________________________________________________\n"
     ]
    }
   ],
   "source": [
    "model.summary()"
   ]
  },
  {
   "cell_type": "code",
   "execution_count": 28,
   "metadata": {},
   "outputs": [
    {
     "name": "stdout",
     "output_type": "stream",
     "text": [
      "Epoch 1/25\n"
     ]
    },
    {
     "name": "stderr",
     "output_type": "stream",
     "text": [
      "/home/mdirfan-code/.local/lib/python3.8/site-packages/tensorflow/python/util/dispatch.py:1082: UserWarning: \"`categorical_crossentropy` received `from_logits=True`, but the `output` argument was produced by a sigmoid or softmax activation and thus does not represent logits. Was this intended?\"\n",
      "  return dispatch_target(*args, **kwargs)\n"
     ]
    },
    {
     "name": "stdout",
     "output_type": "stream",
     "text": [
      "925/925 [==============================] - 47s 46ms/step - loss: 1.3385 - accuracy: 0.3732 - val_loss: 1.2751 - val_accuracy: 0.4398\n",
      "Epoch 2/25\n",
      "925/925 [==============================] - 43s 45ms/step - loss: 1.1856 - accuracy: 0.5093 - val_loss: 1.1067 - val_accuracy: 0.5464\n",
      "Epoch 3/25\n",
      "925/925 [==============================] - 43s 46ms/step - loss: 1.0767 - accuracy: 0.5651 - val_loss: 1.0558 - val_accuracy: 0.5659\n",
      "Epoch 4/25\n",
      "925/925 [==============================] - 44s 46ms/step - loss: 1.0303 - accuracy: 0.5820 - val_loss: 1.0323 - val_accuracy: 0.5771\n",
      "Epoch 5/25\n",
      "925/925 [==============================] - 45s 48ms/step - loss: 1.0008 - accuracy: 0.5919 - val_loss: 1.0193 - val_accuracy: 0.5771\n",
      "Epoch 6/25\n",
      "925/925 [==============================] - 44s 47ms/step - loss: 0.9844 - accuracy: 0.5964 - val_loss: 1.0390 - val_accuracy: 0.5664\n",
      "Epoch 7/25\n",
      "925/925 [==============================] - 44s 46ms/step - loss: 0.9730 - accuracy: 0.6004 - val_loss: 1.0117 - val_accuracy: 0.5766\n",
      "Epoch 8/25\n",
      "925/925 [==============================] - 43s 46ms/step - loss: 0.9643 - accuracy: 0.6041 - val_loss: 0.9988 - val_accuracy: 0.5851\n",
      "Epoch 9/25\n",
      "925/925 [==============================] - 43s 46ms/step - loss: 0.9577 - accuracy: 0.6075 - val_loss: 1.0023 - val_accuracy: 0.5830\n",
      "Epoch 10/25\n",
      "925/925 [==============================] - 43s 46ms/step - loss: 0.9511 - accuracy: 0.6099 - val_loss: 1.0134 - val_accuracy: 0.5779\n",
      "Epoch 11/25\n",
      "925/925 [==============================] - 43s 46ms/step - loss: 0.9444 - accuracy: 0.6125 - val_loss: 0.9867 - val_accuracy: 0.5884\n",
      "Epoch 12/25\n",
      "925/925 [==============================] - 43s 45ms/step - loss: 0.9384 - accuracy: 0.6158 - val_loss: 0.9834 - val_accuracy: 0.5935\n",
      "Epoch 13/25\n",
      "925/925 [==============================] - 43s 46ms/step - loss: 0.9311 - accuracy: 0.6198 - val_loss: 0.9845 - val_accuracy: 0.5906\n",
      "Epoch 14/25\n",
      "925/925 [==============================] - 42s 44ms/step - loss: 0.9247 - accuracy: 0.6221 - val_loss: 0.9980 - val_accuracy: 0.5845\n",
      "Epoch 15/25\n",
      "925/925 [==============================] - 36s 38ms/step - loss: 0.9171 - accuracy: 0.6265 - val_loss: 0.9874 - val_accuracy: 0.5878\n",
      "Epoch 16/25\n",
      "925/925 [==============================] - 36s 38ms/step - loss: 0.9098 - accuracy: 0.6297 - val_loss: 0.9685 - val_accuracy: 0.6000\n",
      "Epoch 17/25\n",
      "925/925 [==============================] - 36s 38ms/step - loss: 0.9022 - accuracy: 0.6319 - val_loss: 0.9598 - val_accuracy: 0.6045\n",
      "Epoch 18/25\n",
      "925/925 [==============================] - 36s 38ms/step - loss: 0.8959 - accuracy: 0.6363 - val_loss: 0.9575 - val_accuracy: 0.6054\n",
      "Epoch 19/25\n",
      "925/925 [==============================] - 36s 38ms/step - loss: 0.8889 - accuracy: 0.6387 - val_loss: 0.9638 - val_accuracy: 0.6029\n",
      "Epoch 20/25\n",
      "925/925 [==============================] - 36s 38ms/step - loss: 0.8832 - accuracy: 0.6407 - val_loss: 0.9567 - val_accuracy: 0.6067\n",
      "Epoch 21/25\n",
      "925/925 [==============================] - 36s 38ms/step - loss: 0.8775 - accuracy: 0.6432 - val_loss: 0.9553 - val_accuracy: 0.6072\n",
      "Epoch 22/25\n",
      "925/925 [==============================] - 36s 38ms/step - loss: 0.8723 - accuracy: 0.6459 - val_loss: 0.9519 - val_accuracy: 0.6100\n",
      "Epoch 23/25\n",
      "925/925 [==============================] - 36s 38ms/step - loss: 0.8669 - accuracy: 0.6485 - val_loss: 0.9491 - val_accuracy: 0.6108\n",
      "Epoch 24/25\n",
      "925/925 [==============================] - 36s 38ms/step - loss: 0.8627 - accuracy: 0.6498 - val_loss: 0.9459 - val_accuracy: 0.6124\n",
      "Epoch 25/25\n",
      "925/925 [==============================] - 36s 39ms/step - loss: 0.8580 - accuracy: 0.6527 - val_loss: 0.9518 - val_accuracy: 0.6099\n"
     ]
    }
   ],
   "source": [
    "history = model.fit(train_data_f,epochs=25,validation_data=test_data_f,verbose=1,class_weight=weights)\n",
    "\n",
    "# model.summary()"
   ]
  },
  {
   "cell_type": "code",
   "execution_count": 29,
   "metadata": {},
   "outputs": [],
   "source": [
    "classes = [ 'Negative','Positive', 'Neutral', 'Irrelevant']\n"
   ]
  },
  {
   "cell_type": "code",
   "execution_count": 30,
   "metadata": {},
   "outputs": [
    {
     "data": {
      "text/plain": [
       "'Positive'"
      ]
     },
     "execution_count": 30,
     "metadata": {},
     "output_type": "execute_result"
    }
   ],
   "source": [
    "classes[model.predict(np.array([\"omg i'm so excited to watch dk play pubg\"])).argmax()]"
   ]
  },
  {
   "cell_type": "code",
   "execution_count": 31,
   "metadata": {},
   "outputs": [
    {
     "data": {
      "text/plain": [
       "'Negative'"
      ]
     },
     "execution_count": 31,
     "metadata": {},
     "output_type": "execute_result"
    }
   ],
   "source": [
    "\n",
    "classes[model.predict(np.array([\"The worse game I've played in the last few years is  Dead  \"])).argmax()]"
   ]
  },
  {
   "cell_type": "code",
   "execution_count": 32,
   "metadata": {},
   "outputs": [
    {
     "data": {
      "image/png": "[encoded data removed]",
      "text/plain": [
       "<Figure size 1152x432 with 2 Axes>"
      ]
     },
     "metadata": {
      "needs_background": "light"
     },
     "output_type": "display_data"
    }
   ],
   "source": [
    "import matplotlib.pyplot as plt\n",
    "\n",
    "\n",
    "def plot_graphs(history, metric):\n",
    "    plt.plot(history.history[metric])\n",
    "    plt.plot(history.history['val_'+metric], '')\n",
    "    plt.xlabel(\"Epochs\")\n",
    "    plt.ylabel(metric)\n",
    "    plt.legend([metric, 'val_'+metric])\n",
    "\n",
    "plt.figure(figsize=(16, 6))\n",
    "\n",
    "plt.subplot(1, 2, 1)\n",
    "plot_graphs(history, 'accuracy')\n",
    "plt.subplot(1, 2, 2)\n",
    "plot_graphs(history, 'loss')"
   ]
  },
  {
   "cell_type": "code",
   "execution_count": null,
   "metadata": {},
   "outputs": [],
   "source": []
  }
 ],
 "metadata": {
  "kernelspec": {
   "display_name": "Python 3.8.10 64-bit",
   "language": "python",
   "name": "python3"
  },
  "language_info": {
   "codemirror_mode": {
    "name": "ipython",
    "version": 3
   },
   "file_extension": ".py",
   "mimetype": "text/x-python",
   "name": "python",
   "nbconvert_exporter": "python",
   "pygments_lexer": "ipython3",
   "version": "3.8.10"
  },
  "orig_nbformat": 4,
  "vscode": {
   "interpreter": {
    "hash": "916dbcbb3f70747c44a77c7bcd40155683ae19c65e1c03b4aa3499c5328201f1"
   }
  }
 },
 "nbformat": 4,
 "nbformat_minor": 2
}
