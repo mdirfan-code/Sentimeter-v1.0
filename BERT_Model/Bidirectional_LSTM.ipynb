{
 "cells": [
  {
   "cell_type": "code",
   "execution_count": 1,
   "metadata": {},
   "outputs": [
    {
     "name": "stderr",
     "output_type": "stream",
     "text": [
      "2022-11-01 02:25:11.169109: W tensorflow/stream_executor/platform/default/dso_loader.cc:64] Could not load dynamic library 'libcudart.so.11.0'; dlerror: libcudart.so.11.0: cannot open shared object file: No such file or directory\n",
      "2022-11-01 02:25:11.169189: I tensorflow/stream_executor/cuda/cudart_stub.cc:29] Ignore above cudart dlerror if you do not have a GPU set up on your machine.\n"
     ]
    }
   ],
   "source": [
    "import numpy as np\n",
    "import pandas as pd\n",
    "import tensorflow_datasets as tfds\n",
    "import tensorflow_hub as hub\n",
    "import tensorflow as tf"
   ]
  },
  {
   "cell_type": "code",
   "execution_count": 2,
   "metadata": {},
   "outputs": [],
   "source": [
    "import matplotlib.pyplot as plt\n",
    "\n",
    "\n",
    "def plot_graphs(history, metric):\n",
    "  plt.plot(history.history[metric])\n",
    "  plt.plot(history.history['val_'+metric], '')\n",
    "  plt.xlabel(\"Epochs\")\n",
    "  plt.ylabel(metric)\n",
    "  plt.legend([metric, 'val_'+metric])"
   ]
  },
  {
   "cell_type": "code",
   "execution_count": 3,
   "metadata": {},
   "outputs": [
    {
     "data": {
      "text/html": [
       "<div>\n",
       "<style scoped>\n",
       "    .dataframe tbody tr th:only-of-type {\n",
       "        vertical-align: middle;\n",
       "    }\n",
       "\n",
       "    .dataframe tbody tr th {\n",
       "        vertical-align: top;\n",
       "    }\n",
       "\n",
       "    .dataframe thead th {\n",
       "        text-align: right;\n",
       "    }\n",
       "</style>\n",
       "<table border=\"1\" class=\"dataframe\">\n",
       "  <thead>\n",
       "    <tr style=\"text-align: right;\">\n",
       "      <th></th>\n",
       "      <th>Unnamed: 0</th>\n",
       "      <th>sentiment</th>\n",
       "      <th>tweet_text</th>\n",
       "    </tr>\n",
       "  </thead>\n",
       "  <tbody>\n",
       "    <tr>\n",
       "      <th>0</th>\n",
       "      <td>49647</td>\n",
       "      <td>Irrelevant</td>\n",
       "      <td>Last Weekend league for Fifa 20 Glad I could f...</td>\n",
       "    </tr>\n",
       "    <tr>\n",
       "      <th>1</th>\n",
       "      <td>43676</td>\n",
       "      <td>Positive</td>\n",
       "      <td>omg i'm so excited to watch dk play pubg</td>\n",
       "    </tr>\n",
       "    <tr>\n",
       "      <th>2</th>\n",
       "      <td>55915</td>\n",
       "      <td>Negative</td>\n",
       "      <td>all others who have problems with</td>\n",
       "    </tr>\n",
       "    <tr>\n",
       "      <th>3</th>\n",
       "      <td>14927</td>\n",
       "      <td>Positive</td>\n",
       "      <td>in</td>\n",
       "    </tr>\n",
       "    <tr>\n",
       "      <th>4</th>\n",
       "      <td>44039</td>\n",
       "      <td>Irrelevant</td>\n",
       "      <td>minho felix de jeongin sucked at pubg pretty h...</td>\n",
       "    </tr>\n",
       "    <tr>\n",
       "      <th>...</th>\n",
       "      <td>...</td>\n",
       "      <td>...</td>\n",
       "      <td>...</td>\n",
       "    </tr>\n",
       "    <tr>\n",
       "      <th>59191</th>\n",
       "      <td>37541</td>\n",
       "      <td>Negative</td>\n",
       "      <td>you</td>\n",
       "    </tr>\n",
       "    <tr>\n",
       "      <th>59192</th>\n",
       "      <td>6332</td>\n",
       "      <td>Neutral</td>\n",
       "      <td>I'm not even going to show a 7 2 loss.</td>\n",
       "    </tr>\n",
       "    <tr>\n",
       "      <th>59193</th>\n",
       "      <td>55392</td>\n",
       "      <td>Negative</td>\n",
       "      <td>Fuck this call of duty update..</td>\n",
       "    </tr>\n",
       "    <tr>\n",
       "      <th>59194</th>\n",
       "      <td>864</td>\n",
       "      <td>Positive</td>\n",
       "      <td>I should get up feed my dogs such that way whe...</td>\n",
       "    </tr>\n",
       "    <tr>\n",
       "      <th>59195</th>\n",
       "      <td>15956</td>\n",
       "      <td>Irrelevant</td>\n",
       "      <td>Welcome to The International!</td>\n",
       "    </tr>\n",
       "  </tbody>\n",
       "</table>\n",
       "<p>59196 rows × 3 columns</p>\n",
       "</div>"
      ],
      "text/plain": [
       "       Unnamed: 0   sentiment  \\\n",
       "0           49647  Irrelevant   \n",
       "1           43676    Positive   \n",
       "2           55915    Negative   \n",
       "3           14927    Positive   \n",
       "4           44039  Irrelevant   \n",
       "...           ...         ...   \n",
       "59191       37541    Negative   \n",
       "59192        6332     Neutral   \n",
       "59193       55392    Negative   \n",
       "59194         864    Positive   \n",
       "59195       15956  Irrelevant   \n",
       "\n",
       "                                              tweet_text  \n",
       "0      Last Weekend league for Fifa 20 Glad I could f...  \n",
       "1               omg i'm so excited to watch dk play pubg  \n",
       "2                      all others who have problems with  \n",
       "3                                                     in  \n",
       "4      minho felix de jeongin sucked at pubg pretty h...  \n",
       "...                                                  ...  \n",
       "59191                                                you  \n",
       "59192             I'm not even going to show a 7 2 loss.  \n",
       "59193                    Fuck this call of duty update..  \n",
       "59194  I should get up feed my dogs such that way whe...  \n",
       "59195                      Welcome to The International!  \n",
       "\n",
       "[59196 rows x 3 columns]"
      ]
     },
     "execution_count": 3,
     "metadata": {},
     "output_type": "execute_result"
    }
   ],
   "source": [
    "train_data_set = pd.read_csv(\"/home/mdirfan-code/projects/Sentimeter-v1.0/BERT_Model/Datasets/Training_dataset.csv\")\n",
    "train_data_set"
   ]
  },
  {
   "cell_type": "code",
   "execution_count": 4,
   "metadata": {},
   "outputs": [
    {
     "data": {
      "text/html": [
       "<div>\n",
       "<style scoped>\n",
       "    .dataframe tbody tr th:only-of-type {\n",
       "        vertical-align: middle;\n",
       "    }\n",
       "\n",
       "    .dataframe tbody tr th {\n",
       "        vertical-align: top;\n",
       "    }\n",
       "\n",
       "    .dataframe thead th {\n",
       "        text-align: right;\n",
       "    }\n",
       "</style>\n",
       "<table border=\"1\" class=\"dataframe\">\n",
       "  <thead>\n",
       "    <tr style=\"text-align: right;\">\n",
       "      <th></th>\n",
       "      <th>Unnamed: 0</th>\n",
       "      <th>sentiment</th>\n",
       "      <th>tweet_text</th>\n",
       "    </tr>\n",
       "  </thead>\n",
       "  <tbody>\n",
       "    <tr>\n",
       "      <th>0</th>\n",
       "      <td>61413</td>\n",
       "      <td>Irrelevant</td>\n",
       "      <td>Looks to me like he failed to check out the wa...</td>\n",
       "    </tr>\n",
       "    <tr>\n",
       "      <th>1</th>\n",
       "      <td>44887</td>\n",
       "      <td>Irrelevant</td>\n",
       "      <td>Wow it takes all sorts of crazy people out the...</td>\n",
       "    </tr>\n",
       "    <tr>\n",
       "      <th>2</th>\n",
       "      <td>73662</td>\n",
       "      <td>Neutral</td>\n",
       "      <td>Nvidia Unveils The World s Fastest Gaming Moni...</td>\n",
       "    </tr>\n",
       "    <tr>\n",
       "      <th>3</th>\n",
       "      <td>36694</td>\n",
       "      <td>Neutral</td>\n",
       "      <td>Huge radio play here. Reinvention Corporate Ev...</td>\n",
       "    </tr>\n",
       "    <tr>\n",
       "      <th>4</th>\n",
       "      <td>2308</td>\n",
       "      <td>Negative</td>\n",
       "      <td>SO I HAPPY WHO ABOUT THIS.</td>\n",
       "    </tr>\n",
       "    <tr>\n",
       "      <th>...</th>\n",
       "      <td>...</td>\n",
       "      <td>...</td>\n",
       "      <td>...</td>\n",
       "    </tr>\n",
       "    <tr>\n",
       "      <th>14795</th>\n",
       "      <td>12630</td>\n",
       "      <td>Negative</td>\n",
       "      <td>where is all my Mamba Edition extras? I m bee...</td>\n",
       "    </tr>\n",
       "    <tr>\n",
       "      <th>14796</th>\n",
       "      <td>49615</td>\n",
       "      <td>Negative</td>\n",
       "      <td>Sell 700k fifa coins fucking this game</td>\n",
       "    </tr>\n",
       "    <tr>\n",
       "      <th>14797</th>\n",
       "      <td>12322</td>\n",
       "      <td>Negative</td>\n",
       "      <td>107 for a four game break and I can't even ev...</td>\n",
       "    </tr>\n",
       "    <tr>\n",
       "      <th>14798</th>\n",
       "      <td>4355</td>\n",
       "      <td>Irrelevant</td>\n",
       "      <td>has called me a madman.. I understood right fr...</td>\n",
       "    </tr>\n",
       "    <tr>\n",
       "      <th>14799</th>\n",
       "      <td>52612</td>\n",
       "      <td>Positive</td>\n",
       "      <td>RDR2 at 31m makes really this boy super happy.</td>\n",
       "    </tr>\n",
       "  </tbody>\n",
       "</table>\n",
       "<p>14800 rows × 3 columns</p>\n",
       "</div>"
      ],
      "text/plain": [
       "       Unnamed: 0   sentiment  \\\n",
       "0           61413  Irrelevant   \n",
       "1           44887  Irrelevant   \n",
       "2           73662     Neutral   \n",
       "3           36694     Neutral   \n",
       "4            2308    Negative   \n",
       "...           ...         ...   \n",
       "14795       12630    Negative   \n",
       "14796       49615    Negative   \n",
       "14797       12322    Negative   \n",
       "14798        4355  Irrelevant   \n",
       "14799       52612    Positive   \n",
       "\n",
       "                                              tweet_text  \n",
       "0      Looks to me like he failed to check out the wa...  \n",
       "1      Wow it takes all sorts of crazy people out the...  \n",
       "2      Nvidia Unveils The World s Fastest Gaming Moni...  \n",
       "3      Huge radio play here. Reinvention Corporate Ev...  \n",
       "4                             SO I HAPPY WHO ABOUT THIS.  \n",
       "...                                                  ...  \n",
       "14795   where is all my Mamba Edition extras? I m bee...  \n",
       "14796             Sell 700k fifa coins fucking this game  \n",
       "14797   107 for a four game break and I can't even ev...  \n",
       "14798  has called me a madman.. I understood right fr...  \n",
       "14799     RDR2 at 31m makes really this boy super happy.  \n",
       "\n",
       "[14800 rows x 3 columns]"
      ]
     },
     "execution_count": 4,
     "metadata": {},
     "output_type": "execute_result"
    }
   ],
   "source": [
    "test_data_set = pd.read_csv(\"/home/mdirfan-code/projects/Sentimeter-v1.0/BERT_Model/Datasets/Testing_dataset.csv\")\n",
    "test_data_set"
   ]
  },
  {
   "cell_type": "code",
   "execution_count": 5,
   "metadata": {},
   "outputs": [
    {
     "data": {
      "text/html": [
       "<div>\n",
       "<style scoped>\n",
       "    .dataframe tbody tr th:only-of-type {\n",
       "        vertical-align: middle;\n",
       "    }\n",
       "\n",
       "    .dataframe tbody tr th {\n",
       "        vertical-align: top;\n",
       "    }\n",
       "\n",
       "    .dataframe thead th {\n",
       "        text-align: right;\n",
       "    }\n",
       "</style>\n",
       "<table border=\"1\" class=\"dataframe\">\n",
       "  <thead>\n",
       "    <tr style=\"text-align: right;\">\n",
       "      <th></th>\n",
       "      <th>sentiment</th>\n",
       "      <th>tweet_text</th>\n",
       "    </tr>\n",
       "  </thead>\n",
       "  <tbody>\n",
       "    <tr>\n",
       "      <th>0</th>\n",
       "      <td>Irrelevant</td>\n",
       "      <td>Looks to me like he failed to check out the wa...</td>\n",
       "    </tr>\n",
       "    <tr>\n",
       "      <th>1</th>\n",
       "      <td>Irrelevant</td>\n",
       "      <td>Wow it takes all sorts of crazy people out the...</td>\n",
       "    </tr>\n",
       "    <tr>\n",
       "      <th>2</th>\n",
       "      <td>Neutral</td>\n",
       "      <td>Nvidia Unveils The World s Fastest Gaming Moni...</td>\n",
       "    </tr>\n",
       "    <tr>\n",
       "      <th>3</th>\n",
       "      <td>Neutral</td>\n",
       "      <td>Huge radio play here. Reinvention Corporate Ev...</td>\n",
       "    </tr>\n",
       "    <tr>\n",
       "      <th>4</th>\n",
       "      <td>Negative</td>\n",
       "      <td>SO I HAPPY WHO ABOUT THIS.</td>\n",
       "    </tr>\n",
       "    <tr>\n",
       "      <th>...</th>\n",
       "      <td>...</td>\n",
       "      <td>...</td>\n",
       "    </tr>\n",
       "    <tr>\n",
       "      <th>14795</th>\n",
       "      <td>Negative</td>\n",
       "      <td>where is all my Mamba Edition extras? I m bee...</td>\n",
       "    </tr>\n",
       "    <tr>\n",
       "      <th>14796</th>\n",
       "      <td>Negative</td>\n",
       "      <td>Sell 700k fifa coins fucking this game</td>\n",
       "    </tr>\n",
       "    <tr>\n",
       "      <th>14797</th>\n",
       "      <td>Negative</td>\n",
       "      <td>107 for a four game break and I can't even ev...</td>\n",
       "    </tr>\n",
       "    <tr>\n",
       "      <th>14798</th>\n",
       "      <td>Irrelevant</td>\n",
       "      <td>has called me a madman.. I understood right fr...</td>\n",
       "    </tr>\n",
       "    <tr>\n",
       "      <th>14799</th>\n",
       "      <td>Positive</td>\n",
       "      <td>RDR2 at 31m makes really this boy super happy.</td>\n",
       "    </tr>\n",
       "  </tbody>\n",
       "</table>\n",
       "<p>14800 rows × 2 columns</p>\n",
       "</div>"
      ],
      "text/plain": [
       "        sentiment                                         tweet_text\n",
       "0      Irrelevant  Looks to me like he failed to check out the wa...\n",
       "1      Irrelevant  Wow it takes all sorts of crazy people out the...\n",
       "2         Neutral  Nvidia Unveils The World s Fastest Gaming Moni...\n",
       "3         Neutral  Huge radio play here. Reinvention Corporate Ev...\n",
       "4        Negative                         SO I HAPPY WHO ABOUT THIS.\n",
       "...           ...                                                ...\n",
       "14795    Negative   where is all my Mamba Edition extras? I m bee...\n",
       "14796    Negative             Sell 700k fifa coins fucking this game\n",
       "14797    Negative   107 for a four game break and I can't even ev...\n",
       "14798  Irrelevant  has called me a madman.. I understood right fr...\n",
       "14799    Positive     RDR2 at 31m makes really this boy super happy.\n",
       "\n",
       "[14800 rows x 2 columns]"
      ]
     },
     "execution_count": 5,
     "metadata": {},
     "output_type": "execute_result"
    }
   ],
   "source": [
    "test_data_set.drop('Unnamed: 0',axis=1,inplace=True)\n",
    "test_data_set"
   ]
  },
  {
   "cell_type": "code",
   "execution_count": 6,
   "metadata": {},
   "outputs": [
    {
     "data": {
      "text/html": [
       "<div>\n",
       "<style scoped>\n",
       "    .dataframe tbody tr th:only-of-type {\n",
       "        vertical-align: middle;\n",
       "    }\n",
       "\n",
       "    .dataframe tbody tr th {\n",
       "        vertical-align: top;\n",
       "    }\n",
       "\n",
       "    .dataframe thead th {\n",
       "        text-align: right;\n",
       "    }\n",
       "</style>\n",
       "<table border=\"1\" class=\"dataframe\">\n",
       "  <thead>\n",
       "    <tr style=\"text-align: right;\">\n",
       "      <th></th>\n",
       "      <th>sentiment</th>\n",
       "      <th>tweet_text</th>\n",
       "    </tr>\n",
       "  </thead>\n",
       "  <tbody>\n",
       "    <tr>\n",
       "      <th>0</th>\n",
       "      <td>Irrelevant</td>\n",
       "      <td>Last Weekend league for Fifa 20 Glad I could f...</td>\n",
       "    </tr>\n",
       "    <tr>\n",
       "      <th>1</th>\n",
       "      <td>Positive</td>\n",
       "      <td>omg i'm so excited to watch dk play pubg</td>\n",
       "    </tr>\n",
       "    <tr>\n",
       "      <th>2</th>\n",
       "      <td>Negative</td>\n",
       "      <td>all others who have problems with</td>\n",
       "    </tr>\n",
       "    <tr>\n",
       "      <th>3</th>\n",
       "      <td>Positive</td>\n",
       "      <td>in</td>\n",
       "    </tr>\n",
       "    <tr>\n",
       "      <th>4</th>\n",
       "      <td>Irrelevant</td>\n",
       "      <td>minho felix de jeongin sucked at pubg pretty h...</td>\n",
       "    </tr>\n",
       "    <tr>\n",
       "      <th>...</th>\n",
       "      <td>...</td>\n",
       "      <td>...</td>\n",
       "    </tr>\n",
       "    <tr>\n",
       "      <th>59191</th>\n",
       "      <td>Negative</td>\n",
       "      <td>you</td>\n",
       "    </tr>\n",
       "    <tr>\n",
       "      <th>59192</th>\n",
       "      <td>Neutral</td>\n",
       "      <td>I'm not even going to show a 7 2 loss.</td>\n",
       "    </tr>\n",
       "    <tr>\n",
       "      <th>59193</th>\n",
       "      <td>Negative</td>\n",
       "      <td>Fuck this call of duty update..</td>\n",
       "    </tr>\n",
       "    <tr>\n",
       "      <th>59194</th>\n",
       "      <td>Positive</td>\n",
       "      <td>I should get up feed my dogs such that way whe...</td>\n",
       "    </tr>\n",
       "    <tr>\n",
       "      <th>59195</th>\n",
       "      <td>Irrelevant</td>\n",
       "      <td>Welcome to The International!</td>\n",
       "    </tr>\n",
       "  </tbody>\n",
       "</table>\n",
       "<p>59196 rows × 2 columns</p>\n",
       "</div>"
      ],
      "text/plain": [
       "        sentiment                                         tweet_text\n",
       "0      Irrelevant  Last Weekend league for Fifa 20 Glad I could f...\n",
       "1        Positive           omg i'm so excited to watch dk play pubg\n",
       "2        Negative                  all others who have problems with\n",
       "3        Positive                                                 in\n",
       "4      Irrelevant  minho felix de jeongin sucked at pubg pretty h...\n",
       "...           ...                                                ...\n",
       "59191    Negative                                                you\n",
       "59192     Neutral             I'm not even going to show a 7 2 loss.\n",
       "59193    Negative                    Fuck this call of duty update..\n",
       "59194    Positive  I should get up feed my dogs such that way whe...\n",
       "59195  Irrelevant                      Welcome to The International!\n",
       "\n",
       "[59196 rows x 2 columns]"
      ]
     },
     "execution_count": 6,
     "metadata": {},
     "output_type": "execute_result"
    }
   ],
   "source": [
    "train_data_set.drop(['Unnamed: 0'],axis=1,inplace=True)\n",
    "train_data_set\n"
   ]
  },
  {
   "cell_type": "code",
   "execution_count": 7,
   "metadata": {},
   "outputs": [
    {
     "name": "stderr",
     "output_type": "stream",
     "text": [
      "2022-11-01 02:25:17.878159: W tensorflow/stream_executor/platform/default/dso_loader.cc:64] Could not load dynamic library 'libcuda.so.1'; dlerror: libcuda.so.1: cannot open shared object file: No such file or directory\n",
      "2022-11-01 02:25:17.878217: W tensorflow/stream_executor/cuda/cuda_driver.cc:269] failed call to cuInit: UNKNOWN ERROR (303)\n",
      "2022-11-01 02:25:17.878235: I tensorflow/stream_executor/cuda/cuda_diagnostics.cc:156] kernel driver does not appear to be running on this host (Mi-Notebook-Ultra): /proc/driver/nvidia/version does not exist\n",
      "2022-11-01 02:25:17.878638: I tensorflow/core/platform/cpu_feature_guard.cc:151] This TensorFlow binary is optimized with oneAPI Deep Neural Network Library (oneDNN) to use the following CPU instructions in performance-critical operations:  AVX2 AVX512F FMA\n",
      "To enable them in other operations, rebuild TensorFlow with the appropriate compiler flags.\n"
     ]
    }
   ],
   "source": [
    "train_dataset = tf.data.Dataset.from_tensor_slices((train_data_set['tweet_text'].values,train_data_set['sentiment'].values))\n",
    "test_dataset = tf.data.Dataset.from_tensor_slices((test_data_set['tweet_text'].values,test_data_set['sentiment'].values))"
   ]
  },
  {
   "cell_type": "code",
   "execution_count": 8,
   "metadata": {},
   "outputs": [
    {
     "data": {
      "text/plain": [
       "Negative      17978\n",
       "Positive      16536\n",
       "Neutral       14503\n",
       "Irrelevant    10179\n",
       "Name: sentiment, dtype: int64"
      ]
     },
     "execution_count": 8,
     "metadata": {},
     "output_type": "execute_result"
    }
   ],
   "source": [
    "train_data_set['sentiment'].value_counts()"
   ]
  },
  {
   "cell_type": "code",
   "execution_count": 9,
   "metadata": {},
   "outputs": [],
   "source": [
    "table = tf.lookup.StaticHashTable(\n",
    "    initializer = tf.lookup.KeyValueTensorInitializer(\n",
    "        keys = tf.constant([ 'Negative','Positive', 'Neutral', 'Irrelevant']),\n",
    "        values=tf.constant([0,1,2,3])\n",
    "    ),\n",
    "    default_value=tf.constant(-1),\n",
    "    name = \"target_encoding\"\n",
    ")\n",
    "\n",
    "@tf.function\n",
    "def target(x):\n",
    "    return table.lookup(x)\n",
    "    "
   ]
  },
  {
   "cell_type": "code",
   "execution_count": 10,
   "metadata": {},
   "outputs": [],
   "source": [
    "def show_batch(dataset, size=5):\n",
    "    for batch, label in dataset.take(size):\n",
    "        print(batch.numpy())\n",
    "        print(target(label).numpy())"
   ]
  },
  {
   "cell_type": "code",
   "execution_count": 11,
   "metadata": {},
   "outputs": [
    {
     "name": "stdout",
     "output_type": "stream",
     "text": [
      "b'Last Weekend league for Fifa 20 Glad I could finish strong . . Birthday Mbappe and TOTS de Bruyne were absolutely clutch . pic.twitter.com n1766sVgP9'\n",
      "3\n",
      "b\"omg i'm so excited to watch dk play pubg\"\n",
      "1\n",
      "b'all others who have problems with'\n",
      "0\n",
      "b'in'\n",
      "1\n",
      "b\"minho felix de jeongin sucked at pubg pretty hard today I'm just.. I'm less different than them at 1 thing\"\n",
      "3\n",
      "b\"I appreciate any advice suggestions on this pleeeeease if it's doing hot noodle canister in! All game action was smooth before. This choppy capture is not good. It was fine capturing in OBS before the Nvidia driver update for my RTX GPUs already NERDIOD help NEEDED! \"\n",
      "0\n"
     ]
    }
   ],
   "source": [
    "show_batch(train_dataset,6)"
   ]
  },
  {
   "cell_type": "code",
   "execution_count": 12,
   "metadata": {},
   "outputs": [],
   "source": [
    "def fetch(text, labels):\n",
    "    return text, tf.one_hot(target(labels),4)"
   ]
  },
  {
   "cell_type": "code",
   "execution_count": 13,
   "metadata": {},
   "outputs": [],
   "source": [
    "train_data_f = train_dataset.map(fetch)\n",
    "test_data_f = test_dataset.map(fetch)"
   ]
  },
  {
   "cell_type": "code",
   "execution_count": 14,
   "metadata": {},
   "outputs": [
    {
     "data": {
      "text/plain": [
       "(<tf.Tensor: shape=(), dtype=string, numpy=b'Last Weekend league for Fifa 20 Glad I could finish strong . . Birthday Mbappe and TOTS de Bruyne were absolutely clutch . pic.twitter.com n1766sVgP9'>,\n",
       " <tf.Tensor: shape=(4,), dtype=float32, numpy=array([0., 0., 0., 1.], dtype=float32)>)"
      ]
     },
     "execution_count": 14,
     "metadata": {},
     "output_type": "execute_result"
    }
   ],
   "source": [
    "next(iter(train_data_f))"
   ]
  },
  {
   "cell_type": "code",
   "execution_count": 15,
   "metadata": {},
   "outputs": [
    {
     "data": {
      "text/plain": [
       "(<tf.Tensor: shape=(5,), dtype=string, numpy=\n",
       " array([b'Last Weekend league for Fifa 20 Glad I could finish strong . . Birthday Mbappe and TOTS de Bruyne were absolutely clutch . pic.twitter.com n1766sVgP9',\n",
       "        b\"omg i'm so excited to watch dk play pubg\",\n",
       "        b'all others who have problems with', b'in',\n",
       "        b\"minho felix de jeongin sucked at pubg pretty hard today I'm just.. I'm less different than them at 1 thing\"],\n",
       "       dtype=object)>,\n",
       " <tf.Tensor: shape=(5, 4), dtype=float32, numpy=\n",
       " array([[0., 0., 0., 1.],\n",
       "        [0., 1., 0., 0.],\n",
       "        [1., 0., 0., 0.],\n",
       "        [0., 1., 0., 0.],\n",
       "        [0., 0., 0., 1.]], dtype=float32)>)"
      ]
     },
     "execution_count": 15,
     "metadata": {},
     "output_type": "execute_result"
    }
   ],
   "source": [
    "train_data, train_labels = next(iter(train_data_f.batch(5)))\n",
    "train_data, train_labels"
   ]
  },
  {
   "cell_type": "code",
   "execution_count": 16,
   "metadata": {},
   "outputs": [],
   "source": [
    "# embedding = \"https://tfhub.dev/google/tf2-preview/nnlm-en-dim128/1\"\n",
    "# hub_layer = hub.KerasLayer(embedding, output_shape=[128], input_shape=[],\n",
    "#                             dtype = tf.string, trainable= True\n",
    "#     )\n",
    "# hub_layer(train_data[:1])"
   ]
  },
  {
   "cell_type": "code",
   "execution_count": 17,
   "metadata": {},
   "outputs": [],
   "source": [
    "from sklearn.utils import class_weight\n",
    "\n",
    "class_weights = list(class_weight.compute_class_weight('balanced', classes = np.unique(train_data_set['sentiment']) ,y=train_data_set['sentiment']))"
   ]
  },
  {
   "cell_type": "code",
   "execution_count": 18,
   "metadata": {},
   "outputs": [
    {
     "data": {
      "text/plain": [
       "[1.4538756262894195,\n",
       " 0.8231727667148737,\n",
       " 1.0204095704337033,\n",
       " 0.8949564586357039]"
      ]
     },
     "execution_count": 18,
     "metadata": {},
     "output_type": "execute_result"
    }
   ],
   "source": [
    "class_weights\n",
    "# np.unique(train_data_set['sentiment'])"
   ]
  },
  {
   "cell_type": "code",
   "execution_count": 19,
   "metadata": {},
   "outputs": [
    {
     "data": {
      "text/plain": [
       "array(['Irrelevant', 'Negative', 'Neutral', 'Positive'], dtype=object)"
      ]
     },
     "execution_count": 19,
     "metadata": {},
     "output_type": "execute_result"
    }
   ],
   "source": [
    "class_weights.sort()\n",
    "np.unique(train_data_set['sentiment'])"
   ]
  },
  {
   "cell_type": "code",
   "execution_count": 20,
   "metadata": {},
   "outputs": [
    {
     "data": {
      "text/plain": [
       "{0: 0.8231727667148737,\n",
       " 1: 0.8949564586357039,\n",
       " 2: 1.0204095704337033,\n",
       " 3: 1.4538756262894195}"
      ]
     },
     "execution_count": 20,
     "metadata": {},
     "output_type": "execute_result"
    }
   ],
   "source": [
    "weights = {}\n",
    "for index, weight in enumerate(class_weights):\n",
    "    weights[index] = weight\n",
    "weights\n"
   ]
  },
  {
   "cell_type": "code",
   "execution_count": 21,
   "metadata": {},
   "outputs": [],
   "source": [
    "BUFFER_SIZE = 10000\n",
    "BATCH_SIZE = 64\n",
    "train_data_f = train_data_f.shuffle(BUFFER_SIZE).batch(BATCH_SIZE).prefetch(tf.data.AUTOTUNE)\n",
    "test_data_f = test_data_f.batch(BATCH_SIZE).prefetch(tf.data.AUTOTUNE)"
   ]
  },
  {
   "cell_type": "code",
   "execution_count": 22,
   "metadata": {},
   "outputs": [
    {
     "name": "stdout",
     "output_type": "stream",
     "text": [
      "texts:  [b'HAHAHAHAHAHA these og gy secret twitter person r fuckin funny'\n",
      " b'Depot hot dogs are the second best after Red Run Golf Club which comes in at number one... IYKYK'\n",
      " b'I played this interesting quiz on Amazon Try your luck for a chance to win exciting rewards amazon.in game share g0R...'\n",
      " b' dbongino And really fast because I have to walk to Home Depot and of course touch everything with my rubber gloves. But 7 days ago they predicted up to 2 million deaths for Covit19 in the US. 3 days later they predicted 100 to 200 000. And a mortality rate of less than 2 .'\n",
      " b\"If they have to buy studios to get games that's basically a sign of a failed console.\"\n",
      " b'Everyone is upset because it looks like an Xbox but no one mentions the function. Good contrast! It looks very comfortable in size and shape.'\n",
      " b\"You seriously fools people think banning a game will increase our growing GDP and effect anything there'ain s this is joke of like the day.. the person who has should be ban is our finance minister to improve our national GDP.\"\n",
      " b'Thank you to everyone who joined me on my kerfuffle of a stream tonight. Monster hunter then battlefield then back to monster hunter. Jeez my teammates need to make up their minds lmao '\n",
      " b'i didnt write the comments abt cyberpunk 2077 being covered but someone told me it is and im kinda disappointed? i really wish it isnt like really'\n",
      " b'i just had to rather kill a doggo in her call instead of duty i feel bad'\n",
      " b'in'\n",
      " b\"It's the birthday of toga gggggggggggggggggggggggggggggggggggggggggggggggggggggggggggggggggggggggggggggggggggggggggggggggggggggggggggggggggggggggggggggggggggggggggggggggggggggggggggggggggggggggggggggggggggggggggggggggggggggggggggggggggggggggggggggggggggggggggggggggggggggggggggggggggggggggggggggggggggggggggggggggggggggggggggggggggggggggggggggggggggggggggggggggggggggggggggggggggggggggggggggggggggggggggggggg\"\n",
      " b\"nigga tried to roast me cause I didn't know the next gen is the PS5... fuck your aint just say PS5.\"\n",
      " b'I got gacha lucky in gta ive won 2 cars in the roulette thing the 1 week I played'\n",
      " b\".. Compare this amazing 'Mi Notebook with Intel Table i5 10210U Ultra Gen Thin and Intel PC 8GB 512GB SSD Windows 8 Nvidia MX250 HD Micro Silver 1.5Kg XMA1901 DG Webcam' for unk 49999!!!.. http here amzn.to 3icwBQ2 \"\n",
      " b'HOME A BLESSED!!!!!!!!!!!!'\n",
      " b'Red Dead Redemption 2 Story was amazing man... too fucking good pic.twitter.com LOU7ODBUu0'\n",
      " b'Welp GTA IV still kinda runs like trash in 2020. pic.twitter.com ETNWly3jYQ'\n",
      " b'At the same time despite the fact that there are currently some 100 million people living below the poverty line most of them do not have access to health services and do not have access to health care while most of them do not have access to health care.'\n",
      " b\"At the moment the only thing that makes me happy with N2K is the packaging openings. Shooting shit is thrash! And I waited 4 hours to get my bonus content. It's total crap.\"\n",
      " b'Two unknown Nvidia GPUs discovered with Insane Core Counts tomshardware.com news unknown n...'\n",
      " b'Lou do you make an amazing homemade sweets depot? Who is that?'\n",
      " b'Johnson for Brown and bacteria pay 2.1 millions in bacteria causing talc disease. bilyonaryo.com.ph 2020 06 24 joh..... . '\n",
      " b'im grateful at the support unk are getting as a small family owned business. Thank unk for everything our happy customers. Check out Custom Hardwood Flooring Refinishing Installation on Google!. g.page woodflooringlo...'\n",
      " b\"I think I'm happy with the result. Soon the big picture. It was a good challenge. Have a great weekend.\"\n",
      " b'Wow when I actually gotta go today and do this really made me go to Lowe s party instead'\n",
      " b\"The schedule for the next few days take Sunday off. Monday will be a Hearthstone stream Tuesday will be WoW Mounting Agriculture and Wednesday will be OW Anniversary Event! I've really loved the streams lately and just hung out with everyone!\"\n",
      " b\"All New season ending of this siege feels bloody brilliant... Well played is deffinatly a step in finding the right direction this season cant wait to see what've s next... And gg boys didn't lose a game all evening and I had for a cracking time cant wait to just see what sunday tomorrow has in store.\"\n",
      " b\"Why are people talking about Microsoft buying Sega? I'm going to be incredibly angry\"\n",
      " b\" I'll just get a refund and wait until release to purchase since y'all have lost your minds.\"\n",
      " b'In honor of the national holiday 4 20 do it N2K MyTEAM TwoBrosGaming'\n",
      " b'Joe Buck was excited when Hearthstone' b\"Don't miss at these exciting\"\n",
      " b\"An Amazon package arrived today and I haven't ordered anything. Well I get a text from my lil sister thanking me for supporting her dream.. HIS COOL WEIGHT BLANKED.. IN THE SO FCKN HAPPY. If I never go online again it's BC I'm asleep.\"\n",
      " b'If I I m honestly super hyped going for this next season but I m gonna miss old country house'\n",
      " b\"2nd time playing through Red Dead Redemption 2 instead of acting sad because we had someone guide Scott Gray through his sick and painful days I've grown to hate to fact that with his dying breath he was still out here giving fools the HANDS\"\n",
      " b'Shuttin the fuck up while we play . '\n",
      " b'Ban Loot Boxes?..... is.gd S89dft' b'Will a corporate battle force'\n",
      " b'yesss talk your shit right miss shrek'\n",
      " b'Frontier Science Is Really Attractive'\n",
      " b'WTFFF was my League of teams 102. THEE highest in my league is a 88 Ovr team EA wtffff????? Why '\n",
      " b\" wrongfully reported my wife's imei number as stolen from a phone bought from and used with no help in getting this removed from anyone including that we were signing up with. Its fraud and the consumer has to pay. Phone was 3yrs on Verizon\"\n",
      " b\"Borderlands 3 trash but also lowkey lit just big and it's easy as\"\n",
      " b' GhostRecon UK live event was fun hopefully soon teasers for episode 3? pic.twitter.com jWIC2DFeso'\n",
      " b'Great excitement today Nokia partnering with Verizon. for'\n",
      " b\"All I'm looking forward to is the new Assassin's Creed game coming out soon.\"\n",
      " b\"y'all seriously stop reporting on this shit as though it means anything lmao\"\n",
      " b'Went to HOME DEPOT long lines of fear frozen people waiting to get in!!! Went to LOWES long line of fear frozen people waiting to get in. This is not the American Spirit that built this great country. This is brainwashing 101!'\n",
      " b'Take Hearthstone stream for lets chill and have some fun by streamlabs. at com jabulanimthomb '\n",
      " b'Game Pass remains the greatest thing to come out of this decade. As a kid with very modest money this service would have been a life saver. Props to Microsoft.'\n",
      " b' PUBGMOBILE. PUBG. Hello why pubg mobile and iran It does not open. Please Please Please Please Reply Give.'\n",
      " b'OMFG LETS KY' b'Red Dead Redemption 3 is looking dope'\n",
      " b'what of this...one last April fools joke to others because your heads are cracked like dances on you.'\n",
      " b'No I lost interest after the release of WD legion plus this game is getting poorly timed with Cyberpunk 2077 Ubisoft please stop at this point it s just a different IP. Maybe if you sold it as a new IP it would attract more people'\n",
      " b'pronoun policers in the apex of legends describe UNK disappointed but not surprised'\n",
      " b'Won twice yesterday with the uzi . and I carried these randoms to chicken dinner lol. '\n",
      " b'Finally got to Home Depot work yesterday and picked up the red paint that color I wanna paint my living room tonight after months of procrastinating. Took just about everything off my walls so I m very excited to paint this after so freaking long.'\n",
      " b'Neph be sooooo mad when he die on gta . '\n",
      " b' We appreciate you generally but today Gilda at our Clearwater post office she apparently never worked on schools performed an act of service above and beyond the call of duty. Although gratitude won t fit her every tweet please celebrate her. She is the image of hero children need right now!'\n",
      " b'Neat!! It would be nice to play '\n",
      " b'by the way the handsome collection is free on Epic Games today!! Borderlands 2 the greatest looter shooter ever is free today!!!'\n",
      " b'And Crushed it.']\n",
      "\n",
      "labels:  [[0. 0. 0. 1.]\n",
      " [0. 1. 0. 0.]\n",
      " [0. 0. 1. 0.]\n",
      " [0. 0. 1. 0.]\n",
      " [1. 0. 0. 0.]\n",
      " [0. 0. 1. 0.]\n",
      " [1. 0. 0. 0.]\n",
      " [0. 0. 0. 1.]\n",
      " [0. 0. 0. 1.]\n",
      " [0. 0. 0. 1.]\n",
      " [1. 0. 0. 0.]\n",
      " [0. 0. 0. 1.]\n",
      " [0. 0. 1. 0.]\n",
      " [0. 1. 0. 0.]\n",
      " [0. 0. 1. 0.]\n",
      " [0. 1. 0. 0.]\n",
      " [0. 1. 0. 0.]\n",
      " [1. 0. 0. 0.]\n",
      " [0. 0. 1. 0.]\n",
      " [1. 0. 0. 0.]\n",
      " [0. 0. 1. 0.]\n",
      " [1. 0. 0. 0.]\n",
      " [1. 0. 0. 0.]\n",
      " [0. 1. 0. 0.]\n",
      " [0. 0. 1. 0.]\n",
      " [1. 0. 0. 0.]\n",
      " [0. 0. 1. 0.]\n",
      " [0. 1. 0. 0.]\n",
      " [1. 0. 0. 0.]\n",
      " [1. 0. 0. 0.]\n",
      " [0. 0. 1. 0.]\n",
      " [0. 0. 1. 0.]\n",
      " [0. 0. 1. 0.]\n",
      " [0. 0. 1. 0.]\n",
      " [0. 1. 0. 0.]\n",
      " [0. 1. 0. 0.]\n",
      " [0. 0. 0. 1.]\n",
      " [0. 0. 1. 0.]\n",
      " [0. 0. 1. 0.]\n",
      " [0. 0. 0. 1.]\n",
      " [0. 1. 0. 0.]\n",
      " [1. 0. 0. 0.]\n",
      " [1. 0. 0. 0.]\n",
      " [1. 0. 0. 0.]\n",
      " [0. 1. 0. 0.]\n",
      " [0. 0. 1. 0.]\n",
      " [0. 1. 0. 0.]\n",
      " [1. 0. 0. 0.]\n",
      " [1. 0. 0. 0.]\n",
      " [0. 1. 0. 0.]\n",
      " [0. 0. 0. 1.]\n",
      " [1. 0. 0. 0.]\n",
      " [0. 1. 0. 0.]\n",
      " [0. 1. 0. 0.]\n",
      " [0. 0. 0. 1.]\n",
      " [0. 0. 0. 1.]\n",
      " [0. 0. 0. 1.]\n",
      " [0. 0. 0. 1.]\n",
      " [0. 1. 0. 0.]\n",
      " [0. 0. 0. 1.]\n",
      " [0. 0. 0. 1.]\n",
      " [0. 1. 0. 0.]\n",
      " [0. 1. 0. 0.]\n",
      " [0. 1. 0. 0.]]\n"
     ]
    }
   ],
   "source": [
    "for example, label in train_data_f.take(1):\n",
    "    print('texts: ', example.numpy())\n",
    "    print()\n",
    "    print('labels: ', label.numpy())"
   ]
  },
  {
   "cell_type": "code",
   "execution_count": null,
   "metadata": {},
   "outputs": [],
   "source": []
  },
  {
   "cell_type": "code",
   "execution_count": 23,
   "metadata": {},
   "outputs": [],
   "source": [
    "VOCAB_SIZE = 10000\n",
    "encoder = tf.keras.layers.TextVectorization(max_tokens = VOCAB_SIZE)\n",
    "encoder.adapt(train_data_f.map(lambda text, label:text))"
   ]
  },
  {
   "cell_type": "code",
   "execution_count": 24,
   "metadata": {},
   "outputs": [
    {
     "data": {
      "text/plain": [
       "array(['', '[UNK]', 'the', 'i', 'to', 'and', 'a', 'of', 'is', 'for', 'in',\n",
       "       'this'], dtype='<U27')"
      ]
     },
     "execution_count": 24,
     "metadata": {},
     "output_type": "execute_result"
    }
   ],
   "source": [
    "vocab = np.array(encoder.get_vocabulary())\n",
    "vocab[:12]"
   ]
  },
  {
   "cell_type": "code",
   "execution_count": 25,
   "metadata": {},
   "outputs": [
    {
     "data": {
      "text/plain": [
       "array([[ 11,   8,  15,  18,   0,   0],\n",
       "       [  3,  58, 491,  63, 132, 370],\n",
       "       [ 71,  20,   1,   0,   0,   0]])"
      ]
     },
     "execution_count": 25,
     "metadata": {},
     "output_type": "execute_result"
    }
   ],
   "source": [
    "example = [\"this is my game\", \"I love Myself more than anything\",\"why me nivea\"]\n",
    "encoded_example = encoder(example)[:3].numpy()\n",
    "encoded_example"
   ]
  },
  {
   "cell_type": "code",
   "execution_count": 26,
   "metadata": {},
   "outputs": [],
   "source": [
    "model = tf.keras.Sequential([\n",
    "    encoder,\n",
    "    tf.keras.layers.Embedding(\n",
    "        input_dim=10000,\n",
    "        output_dim=128,\n",
    "        # Use masking to handle the variable sequence lengths\n",
    "        mask_zero=True),\n",
    "    tf.keras.layers.Bidirectional(tf.keras.layers.LSTM(128)),\n",
    "    tf.keras.layers.Dense(64, activation='relu',activity_regularizer=tf.keras.regularizers.L2(0.03)),\n",
    "    tf.keras.layers.Dense(4,activation='softmax')\n",
    "])\n",
    "\n"
   ]
  },
  {
   "cell_type": "code",
   "execution_count": 27,
   "metadata": {},
   "outputs": [
    {
     "name": "stdout",
     "output_type": "stream",
     "text": [
      "[False, True, True, True, True]\n"
     ]
    }
   ],
   "source": [
    "print([layer.supports_masking for layer in model.layers])"
   ]
  },
  {
   "cell_type": "code",
   "execution_count": 28,
   "metadata": {},
   "outputs": [
    {
     "name": "stdout",
     "output_type": "stream",
     "text": [
      "[0.24814303 0.25394964 0.24452579 0.25338143]\n"
     ]
    }
   ],
   "source": [
    "sample_text = ('The movie was cool. The animation and the graphics '\n",
    "               'were out of this world. I would recommend this movie.')\n",
    "predictions = model.predict(train_data_f.take(1))\n",
    "print(predictions[0])\n",
    "# train_data_f.take(1)"
   ]
  },
  {
   "cell_type": "code",
   "execution_count": 29,
   "metadata": {},
   "outputs": [
    {
     "name": "stdout",
     "output_type": "stream",
     "text": [
      "[0.252001   0.24980417 0.24876674 0.24942814]\n"
     ]
    }
   ],
   "source": [
    "padding = \"the \" * 2000\n",
    "predictions = model.predict(np.array([sample_text, padding]))\n",
    "print(predictions[0])"
   ]
  },
  {
   "cell_type": "code",
   "execution_count": 30,
   "metadata": {},
   "outputs": [],
   "source": [
    "model.compile(loss=tf.keras.losses.CategoricalCrossentropy(),\n",
    "              optimizer=tf.keras.optimizers.Adam(1e-4),\n",
    "              metrics=['accuracy'])"
   ]
  },
  {
   "cell_type": "code",
   "execution_count": 31,
   "metadata": {},
   "outputs": [
    {
     "name": "stdout",
     "output_type": "stream",
     "text": [
      "Model: \"sequential\"\n",
      "_________________________________________________________________\n",
      " Layer (type)                Output Shape              Param #   \n",
      "=================================================================\n",
      " text_vectorization (TextVec  (None, None)             0         \n",
      " torization)                                                     \n",
      "                                                                 \n",
      " embedding (Embedding)       (None, None, 128)         1280000   \n",
      "                                                                 \n",
      " bidirectional (Bidirectiona  (None, 256)              263168    \n",
      " l)                                                              \n",
      "                                                                 \n",
      " dense (Dense)               (None, 64)                16448     \n",
      "                                                                 \n",
      " dense_1 (Dense)             (None, 4)                 260       \n",
      "                                                                 \n",
      "=================================================================\n",
      "Total params: 1,559,876\n",
      "Trainable params: 1,559,876\n",
      "Non-trainable params: 0\n",
      "_________________________________________________________________\n"
     ]
    }
   ],
   "source": [
    "model.summary()"
   ]
  },
  {
   "cell_type": "code",
   "execution_count": 32,
   "metadata": {},
   "outputs": [
    {
     "data": {
      "image/png": "[encoded data removed]",
      "text/plain": [
       "<IPython.core.display.Image object>"
      ]
     },
     "execution_count": 32,
     "metadata": {},
     "output_type": "execute_result"
    }
   ],
   "source": [
    "model_img_file = 'Bidirection_LSTM.png'\n",
    "tf.keras.utils.plot_model(model, to_file=model_img_file, \n",
    "                          show_shapes=True, \n",
    "                          show_layer_activations=True, \n",
    "                          show_dtype=True,\n",
    "                          show_layer_names=True )"
   ]
  },
  {
   "cell_type": "code",
   "execution_count": 56,
   "metadata": {},
   "outputs": [
    {
     "name": "stdout",
     "output_type": "stream",
     "text": [
      "Epoch 1/25\n",
      "925/925 [==============================] - 125s 117ms/step - loss: 1.1867 - accuracy: 0.5259 - val_loss: 0.9915 - val_accuracy: 0.6497\n",
      "Epoch 2/25\n",
      "925/925 [==============================] - 106s 113ms/step - loss: 0.8223 - accuracy: 0.7336 - val_loss: 0.8083 - val_accuracy: 0.7274\n",
      "Epoch 3/25\n",
      "925/925 [==============================] - 107s 115ms/step - loss: 0.6513 - accuracy: 0.8014 - val_loss: 0.7134 - val_accuracy: 0.7659\n",
      "Epoch 4/25\n",
      "925/925 [==============================] - 123s 132ms/step - loss: 0.5576 - accuracy: 0.8334 - val_loss: 0.6683 - val_accuracy: 0.7761\n",
      "Epoch 5/25\n",
      "925/925 [==============================] - 119s 127ms/step - loss: 0.4936 - accuracy: 0.8548 - val_loss: 0.6286 - val_accuracy: 0.7916\n",
      "Epoch 6/25\n",
      "925/925 [==============================] - 120s 129ms/step - loss: 0.4431 - accuracy: 0.8715 - val_loss: 0.6063 - val_accuracy: 0.7990\n",
      "Epoch 7/25\n",
      "925/925 [==============================] - 121s 129ms/step - loss: 0.4005 - accuracy: 0.8859 - val_loss: 0.5867 - val_accuracy: 0.8060\n",
      "Epoch 8/25\n",
      "925/925 [==============================] - 119s 128ms/step - loss: 0.3657 - accuracy: 0.8956 - val_loss: 0.5727 - val_accuracy: 0.8114\n",
      "Epoch 9/25\n",
      "925/925 [==============================] - 120s 129ms/step - loss: 0.3327 - accuracy: 0.9060 - val_loss: 0.5595 - val_accuracy: 0.8172\n",
      "Epoch 10/25\n",
      "925/925 [==============================] - 122s 131ms/step - loss: 0.3046 - accuracy: 0.9144 - val_loss: 0.5460 - val_accuracy: 0.8231\n",
      "Epoch 11/25\n",
      "925/925 [==============================] - 125s 134ms/step - loss: 0.2792 - accuracy: 0.9221 - val_loss: 0.5521 - val_accuracy: 0.8259\n",
      "Epoch 12/25\n",
      "925/925 [==============================] - 123s 133ms/step - loss: 0.2599 - accuracy: 0.9271 - val_loss: 0.5407 - val_accuracy: 0.8306\n",
      "Epoch 13/25\n",
      "925/925 [==============================] - 124s 133ms/step - loss: 0.2392 - accuracy: 0.9325 - val_loss: 0.5341 - val_accuracy: 0.8323\n",
      "Epoch 14/25\n",
      "925/925 [==============================] - 124s 133ms/step - loss: 0.2227 - accuracy: 0.9374 - val_loss: 0.5276 - val_accuracy: 0.8332\n",
      "Epoch 15/25\n",
      "925/925 [==============================] - 124s 133ms/step - loss: 0.2086 - accuracy: 0.9424 - val_loss: 0.5347 - val_accuracy: 0.8383\n",
      "Epoch 16/25\n",
      "925/925 [==============================] - 125s 134ms/step - loss: 0.1966 - accuracy: 0.9449 - val_loss: 0.5350 - val_accuracy: 0.8389\n",
      "Epoch 17/25\n",
      "925/925 [==============================] - 124s 133ms/step - loss: 0.1849 - accuracy: 0.9479 - val_loss: 0.5394 - val_accuracy: 0.8378\n",
      "Epoch 18/25\n",
      "925/925 [==============================] - 124s 134ms/step - loss: 0.1748 - accuracy: 0.9506 - val_loss: 0.5440 - val_accuracy: 0.8389\n",
      "Epoch 19/25\n",
      "925/925 [==============================] - 2865s 3s/step - loss: 0.1670 - accuracy: 0.9522 - val_loss: 0.5475 - val_accuracy: 0.8411\n",
      "Epoch 20/25\n",
      "925/925 [==============================] - 123s 132ms/step - loss: 0.1585 - accuracy: 0.9541 - val_loss: 0.5740 - val_accuracy: 0.8381\n",
      "Epoch 21/25\n",
      "925/925 [==============================] - 122s 131ms/step - loss: 0.1506 - accuracy: 0.9565 - val_loss: 0.5599 - val_accuracy: 0.8407\n",
      "Epoch 22/25\n",
      "925/925 [==============================] - 120s 129ms/step - loss: 0.1462 - accuracy: 0.9572 - val_loss: 0.5609 - val_accuracy: 0.8414\n",
      "Epoch 23/25\n",
      "925/925 [==============================] - 121s 129ms/step - loss: 0.1383 - accuracy: 0.9589 - val_loss: 0.5600 - val_accuracy: 0.8424\n",
      "Epoch 24/25\n",
      "925/925 [==============================] - 121s 130ms/step - loss: 0.1332 - accuracy: 0.9600 - val_loss: 0.5677 - val_accuracy: 0.8408\n",
      "Epoch 25/25\n",
      "925/925 [==============================] - 121s 129ms/step - loss: 0.1299 - accuracy: 0.9610 - val_loss: 0.5699 - val_accuracy: 0.8408\n"
     ]
    }
   ],
   "source": [
    "history = model.fit(train_data_f,epochs=25,validation_data=test_data_f,verbose=1,class_weight=weights)\n",
    "\n",
    "# model.summary()"
   ]
  },
  {
   "cell_type": "code",
   "execution_count": 33,
   "metadata": {},
   "outputs": [],
   "source": [
    "classes = [ 'Negative','Positive', 'Neutral', 'Irrelevant']"
   ]
  },
  {
   "cell_type": "code",
   "execution_count": 34,
   "metadata": {},
   "outputs": [
    {
     "data": {
      "text/plain": [
       "'Neutral'"
      ]
     },
     "execution_count": 34,
     "metadata": {},
     "output_type": "execute_result"
    }
   ],
   "source": [
    "classes[model.predict(np.array([\"I think the t 800s were ok disapointed that they do not explode when dying. I mean we are shooting a powercell that explodes the size of 30 to 60 pounds of C4.\"])).argmax()]"
   ]
  },
  {
   "cell_type": "code",
   "execution_count": 35,
   "metadata": {},
   "outputs": [
    {
     "data": {
      "text/plain": [
       "'Positive'"
      ]
     },
     "execution_count": 35,
     "metadata": {},
     "output_type": "execute_result"
    }
   ],
   "source": [
    "\n",
    "classes[model.predict(np.array([\"The best game I've played in the last few years is Red Dead Redeemption 2. One of the best games I've ever played.\"])).argmax()]"
   ]
  },
  {
   "cell_type": "code",
   "execution_count": null,
   "metadata": {},
   "outputs": [],
   "source": []
  }
 ],
 "metadata": {
  "kernelspec": {
   "display_name": "Python 3.8.10 64-bit",
   "language": "python",
   "name": "python3"
  },
  "language_info": {
   "codemirror_mode": {
    "name": "ipython",
    "version": 3
   },
   "file_extension": ".py",
   "mimetype": "text/x-python",
   "name": "python",
   "nbconvert_exporter": "python",
   "pygments_lexer": "ipython3",
   "version": "3.8.10"
  },
  "orig_nbformat": 4,
  "vscode": {
   "interpreter": {
    "hash": "916dbcbb3f70747c44a77c7bcd40155683ae19c65e1c03b4aa3499c5328201f1"
   }
  }
 },
 "nbformat": 4,
 "nbformat_minor": 2
}
